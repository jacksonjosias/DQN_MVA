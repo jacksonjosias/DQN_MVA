{
 "cells": [
  {
   "cell_type": "markdown",
   "metadata": {
    "colab_type": "text",
    "id": "5fywN7ovcYTY"
   },
   "source": [
    "**You may need to install [OpenCV](https://pypi.python.org/pypi/opencv-python) and [scikit-video](http://www.scikit-video.org/stable/).**"
   ]
  },
  {
   "cell_type": "code",
   "execution_count": 0,
   "metadata": {
    "colab": {
     "base_uri": "https://localhost:8080/",
     "height": 102
    },
    "colab_type": "code",
    "id": "uw42SUbPcYTa",
    "outputId": "baa1a0db-fe29-4430-e608-e956ecf60565"
   },
   "outputs": [
    {
     "name": "stdout",
     "output_type": "stream",
     "text": [
      "Requirement already satisfied: scikit-video in /usr/local/lib/python3.6/dist-packages (1.1.11)\n",
      "Requirement already satisfied: pillow in /usr/local/lib/python3.6/dist-packages (from scikit-video) (4.0.0)\n",
      "Requirement already satisfied: numpy in /usr/local/lib/python3.6/dist-packages (from scikit-video) (1.14.6)\n",
      "Requirement already satisfied: scipy in /usr/local/lib/python3.6/dist-packages (from scikit-video) (1.1.0)\n",
      "Requirement already satisfied: olefile in /usr/local/lib/python3.6/dist-packages (from pillow->scikit-video) (0.46)\n"
     ]
    }
   ],
   "source": [
    "# Load library in jupyter\n",
    "!pip install scikit-video\n",
    "import keras\n",
    "import numpy as np\n",
    "import io\n",
    "import base64\n",
    "from IPython.display import HTML\n",
    "import skvideo.io\n",
    "import cv2\n",
    "import json\n",
    "from random import randint\n",
    "\n",
    "from keras.models import Sequential,model_from_json\n",
    "from keras.layers.core import Dense\n",
    "from keras.optimizers import sgd\n",
    "from keras.layers import Conv2D, MaxPooling2D, Activation, AveragePooling2D,Reshape,BatchNormalization,Flatten"
   ]
  },
  {
   "cell_type": "markdown",
   "metadata": {
    "colab_type": "text",
    "id": "6zVo8RMFcYTd"
   },
   "source": [
    "# MiniProject #3: Deep Reinforcement Learning"
   ]
  },
  {
   "cell_type": "markdown",
   "metadata": {
    "colab_type": "text",
    "id": "oHneV-JTcYTe"
   },
   "source": [
    "__Notations__: $E_p$ is the expectation under probability $p$. Please justify each of your answer and widely comment your code."
   ]
  },
  {
   "cell_type": "markdown",
   "metadata": {
    "colab_type": "text",
    "id": "0g2_38_McYTf"
   },
   "source": [
    "# Context"
   ]
  },
  {
   "cell_type": "markdown",
   "metadata": {
    "colab_type": "text",
    "id": "1BwPaB_YcYTg"
   },
   "source": [
    "In a reinforcement learning algorithm, we modelize each step $t$ as an action $a_t$ obtained from a state $s_t$, i.e. $\\{(a_{t},s_{t})_{t\\leq T}\\}$ having the Markov property. We consider a discount factor $\\gamma \\in [0,1]$ that ensures convergence. The goal is to find among all the policies $\\pi$, one that maximizes the expected reward:\n",
    "\n",
    "\\begin{equation*}\n",
    "R(\\pi)=\\sum_{t\\leq T}E_{p^{\\pi}}[\\gamma^t r(s_{t},a_{t})] \\> ,\n",
    "\\end{equation*}\n",
    "\n",
    "where: \n",
    "\\begin{equation*}p^{\\pi}(a_{0},a_{1},s_{1},...,a_{T},s_{T})=p(a_{0})\\prod_{t=1}^{T}\\pi(a_{t}|s_{t})p(s_{t+1}|s_{t},a_{t}) \\> .\n",
    "\\end{equation*}\n",
    "\n",
    "We note the $Q$-function:\n",
    "\n",
    "\\begin{equation*}Q^\\pi(s,a)=E_{p^{\\pi}}[\\sum_{t\\leq T}\\gamma^{t}r(s_{t},a_{t})|s_{0}=s,a_{0}=a] \\> .\n",
    "\\end{equation*}\n",
    "\n",
    "Thus, the optimal Q function is:\n",
    "\\begin{equation*}\n",
    "Q^*(s,a)=\\max_{\\pi}Q^\\pi(s,a) \\> .\n",
    "\\end{equation*}\n",
    "\n",
    "In this project, we will apply the deep reinforcement learning techniques to a simple game: an agent will have to learn from scratch a policy that will permit it maximizing a reward."
   ]
  },
  {
   "cell_type": "markdown",
   "metadata": {
    "colab_type": "text",
    "id": "sFcd62LBcYTh"
   },
   "source": [
    "## The environment, the agent and the game"
   ]
  },
  {
   "cell_type": "markdown",
   "metadata": {
    "colab_type": "text",
    "id": "VfdBd5d6cYTi"
   },
   "source": [
    "### The environment"
   ]
  },
  {
   "cell_type": "markdown",
   "metadata": {
    "colab_type": "text",
    "id": "luwQHWlrcYTk"
   },
   "source": [
    "```Environment``` is an abstract class that represents the states, rewards, and actions to obtain the new state."
   ]
  },
  {
   "cell_type": "code",
   "execution_count": 0,
   "metadata": {
    "colab": {},
    "colab_type": "code",
    "id": "qgjz0_DgcYTl"
   },
   "outputs": [],
   "source": [
    "class Environment(object):\n",
    "    def __init__(self):\n",
    "        pass\n",
    "\n",
    "    def act(self, act):\n",
    "        \"\"\"\n",
    "        One can act on the environment and obtain its reaction:\n",
    "        - the new state\n",
    "        - the reward of the new state\n",
    "        - should we continue the game?\n",
    "\n",
    "        :return: state, reward, game_over\n",
    "        \"\"\"\n",
    "        pass\n",
    "\n",
    "\n",
    "    def reset(self):\n",
    "        \"\"\"\n",
    "        Reinitialize the environment to a random state and returns\n",
    "        the original state\n",
    "\n",
    "        :return: state\n",
    "        \"\"\"\n",
    "        pass\n",
    "    \n",
    "    def draw(self):\n",
    "        \"\"\"\n",
    "        Visualize in the console or graphically the current state\n",
    "        \"\"\"\n",
    "        pass"
   ]
  },
  {
   "cell_type": "markdown",
   "metadata": {
    "colab_type": "text",
    "id": "kF4D3OHMcYTn"
   },
   "source": [
    "The method ```act``` allows to act on the environment at a given state $s_t$ (stored internally), via action $a_t$. The method will return the new state $s_{t+1}$, the reward $r(s_{t},a_{t})$ and determines if $t\\leq T$ (*game_over*).\n",
    "\n",
    "The method ```reset``` simply reinitializes the environment to a random state $s_0$.\n",
    "\n",
    "The method ```draw``` displays the current state $s_t$ (this is useful to check the behavior of the Agent).\n",
    "\n",
    "We modelize $s_t$ as a tensor, while $a_t$ is an integer."
   ]
  },
  {
   "cell_type": "markdown",
   "metadata": {
    "colab_type": "text",
    "id": "KQn3lw54cYTp"
   },
   "source": [
    "### The Agent"
   ]
  },
  {
   "cell_type": "markdown",
   "metadata": {
    "colab_type": "text",
    "id": "OuJHb7nEcYTq"
   },
   "source": [
    "The goal of the ```Agent``` is to interact with the ```Environment``` by proposing actions $a_t$ obtained from a given state $s_t$ to attempt to maximize its __reward__ $r(s_t,a_t)$. We propose the following abstract class:"
   ]
  },
  {
   "cell_type": "code",
   "execution_count": 0,
   "metadata": {
    "colab": {},
    "colab_type": "code",
    "id": "gnGOWVoCcYTr"
   },
   "outputs": [],
   "source": [
    "class Agent(object):\n",
    "    def __init__(self, epsilon=0.1, n_action=4):\n",
    "        self.epsilon = epsilon\n",
    "        self.n_action = n_action\n",
    "    \n",
    "    def set_epsilon(self,e):\n",
    "        self.epsilon = e\n",
    "\n",
    "    def act(self,s,train=True):\n",
    "        \"\"\" This function should return the next action to do:\n",
    "        an integer between 0 and 4 (not included) with a random exploration of epsilon\"\"\"\n",
    "        if train:\n",
    "            if np.random.rand() <= self.epsilon:\n",
    "                a = np.random.randint(0, self.n_action, size=1)[0]\n",
    "            else:\n",
    "                a = self.learned_act(s)\n",
    "        else: # in some cases, this can improve the performance.. remove it if poor performances\n",
    "            a = self.learned_act(s)\n",
    "\n",
    "        return a\n",
    "\n",
    "    def learned_act(self,s):\n",
    "        \"\"\" Act via the policy of the agent, from a given state s\n",
    "        it proposes an action a\"\"\"\n",
    "        pass\n",
    "\n",
    "    def reinforce(self, s, n_s, a, r, game_over_):\n",
    "        \"\"\" This function is the core of the learning algorithm. \n",
    "        It takes as an input the current state s_, the next state n_s_\n",
    "        the action a_ used to move from s_ to n_s_ and the reward r_.\n",
    "        \n",
    "        Its goal is to learn a policy.\n",
    "        \"\"\"\n",
    "        pass\n",
    "\n",
    "    def save(self):\n",
    "        \"\"\" This function returns basic stats if applicable: the\n",
    "        loss and/or the model\"\"\"\n",
    "        pass\n",
    "\n",
    "    def load(self):\n",
    "        \"\"\" This function allows to restore a model\"\"\"\n",
    "        pass"
   ]
  },
  {
   "cell_type": "markdown",
   "metadata": {
    "colab_type": "text",
    "id": "x1qRyFUlcYTu"
   },
   "source": [
    "***\n",
    "__Question 1__:\n",
    "Explain the function act. Why is ```epsilon``` essential?"
   ]
  },
  {
   "cell_type": "markdown",
   "metadata": {
    "colab_type": "text",
    "id": "6wLFXpDVcYTw"
   },
   "source": [
    "Epsilon is essential because it helps to not have a deterministic policy. Once the algorithm has converged, a deterministic policy can be used and an estimations of  $P(s'|s,a)$ and $R(s,a)$ have been computed by  a Monte-Carlo method. In order to explore the state-action values, it is necessary to introduce stochasticity."
   ]
  },
  {
   "cell_type": "markdown",
   "metadata": {
    "colab_type": "text",
    "id": "m6WguybRcYTx"
   },
   "source": [
    "***\n",
    "### The Game"
   ]
  },
  {
   "cell_type": "markdown",
   "metadata": {
    "colab_type": "text",
    "id": "XvRrkG8kcYTz"
   },
   "source": [
    "The ```Agent``` and the ```Environment``` work in an interlaced way as in the following (take some time to understand this code as it is the core of the project)\n",
    "\n",
    "```python\n",
    "\n",
    "epoch = 300\n",
    "env = Environment()\n",
    "agent = Agent()\n",
    "\n",
    "\n",
    "# Number of won games\n",
    "score = 0\n",
    "loss = 0\n",
    "\n",
    "\n",
    "for e in range(epoch):\n",
    "    # At each epoch, we restart to a fresh game and get the initial state\n",
    "    state = env.reset()\n",
    "    # This assumes that the games will end\n",
    "    game_over = False\n",
    "\n",
    "    win = 0\n",
    "    lose = 0\n",
    "    \n",
    "    while not game_over:\n",
    "        # The agent performs an action\n",
    "        action = agent.act(state)\n",
    "\n",
    "        # Apply an action to the environment, get the next state, the reward\n",
    "        # and if the games end\n",
    "        prev_state = state\n",
    "        state, reward, game_over = env.act(action)\n",
    "\n",
    "        # Update the counters\n",
    "        if reward > 0:\n",
    "            win = win + reward\n",
    "        if reward < 0:\n",
    "            lose = lose -reward\n",
    "\n",
    "        # Apply the reinforcement strategy\n",
    "        loss = agent.reinforce(prev_state, state,  action, reward, game_over)\n",
    "\n",
    "    # Save as a mp4\n",
    "    if e % 10 == 0:\n",
    "        env.draw(e)\n",
    "\n",
    "    # Update stats\n",
    "    score += win-lose\n",
    "\n",
    "    print(\"Epoch {:03d}/{:03d} | Loss {:.4f} | Win/lose count {}/{} ({})\"\n",
    "          .format(e, epoch, loss, win, lose, win-lose))\n",
    "    agent.save()\n",
    "```"
   ]
  },
  {
   "cell_type": "markdown",
   "metadata": {
    "colab_type": "text",
    "id": "vnnp7ABocYT0"
   },
   "source": [
    "# The game, *eat cheese*"
   ]
  },
  {
   "cell_type": "markdown",
   "metadata": {
    "colab_type": "text",
    "id": "MDwsekP5cYT3"
   },
   "source": [
    "A rat runs on an island and tries to eat as much as possible. The island is subdivided into $N\\times N$ cells, in which there are cheese (+0.5) and poisonous cells (-1). The rat has a visibility of 2 cells (thus it can see $5^2$ cells). The rat is given a time $T$ to accumulate as much food as possible. It can perform 4 actions: going up, down, left, right. \n",
    "\n",
    "The goal is to code an agent to solve this task that will learn by trial and error. We propose the following environment:"
   ]
  },
  {
   "cell_type": "code",
   "execution_count": 0,
   "metadata": {
    "colab": {},
    "colab_type": "code",
    "id": "WKo5Tb3scYT4"
   },
   "outputs": [],
   "source": [
    "class Environment(object):\n",
    "    def __init__(self, grid_size=10, max_time=500, temperature=0.1):\n",
    "        grid_size = grid_size+4\n",
    "        self.grid_size = grid_size\n",
    "        self.max_time = max_time\n",
    "        self.temperature = temperature\n",
    "\n",
    "        #board on which one plays\n",
    "        self.board = np.zeros((grid_size,grid_size))\n",
    "        self.position = np.zeros((grid_size,grid_size))\n",
    "\n",
    "        # coordinate of the cat\n",
    "        self.x = 0\n",
    "        self.y = 1\n",
    "\n",
    "        # self time\n",
    "        self.t = 0\n",
    "\n",
    "        self.scale=16\n",
    "\n",
    "        self.to_draw = np.zeros((max_time+2, grid_size*self.scale, grid_size*self.scale, 3))\n",
    "\n",
    "\n",
    "    def draw(self,e):\n",
    "        skvideo.io.vwrite(str(e) + '.mp4', self.to_draw)\n",
    "\n",
    "    def get_frame(self,t):\n",
    "        b = np.zeros((self.grid_size,self.grid_size,3))+128\n",
    "        b[self.board>0,0] = 256\n",
    "        b[self.board < 0, 2] = 256\n",
    "        b[self.x,self.y,:]=256\n",
    "        b[-2:,:,:]=0\n",
    "        b[:,-2:,:]=0\n",
    "        b[:2,:,:]=0\n",
    "        b[:,:2,:]=0\n",
    "        \n",
    "        b =  cv2.resize(b, None, fx=self.scale, fy=self.scale, interpolation=cv2.INTER_NEAREST)\n",
    "\n",
    "        self.to_draw[t,:,:,:]=b\n",
    "\n",
    "\n",
    "    def act(self, action):\n",
    "        \"\"\"This function returns the new state, reward and decides if the\n",
    "        game ends.\"\"\"\n",
    "\n",
    "        self.get_frame(int(self.t))\n",
    "\n",
    "        self.position = np.zeros((self.grid_size, self.grid_size))\n",
    "\n",
    "        self.position[0:2,:]= -1\n",
    "        self.position[:,0:2] = -1\n",
    "        self.position[-2:, :] = -1\n",
    "        self.position[-2:, :] = -1\n",
    "\n",
    "        self.position[self.x, self.y] = 1\n",
    "        if action == 0:\n",
    "            if self.x == self.grid_size-3:\n",
    "                self.x = self.x-1\n",
    "            else:\n",
    "                self.x = self.x + 1\n",
    "        elif action == 1:\n",
    "            if self.x == 2:\n",
    "                self.x = self.x+1\n",
    "            else:\n",
    "                self.x = self.x-1\n",
    "        elif action == 2:\n",
    "            if self.y == self.grid_size - 3:\n",
    "                self.y = self.y - 1\n",
    "            else:\n",
    "                self.y = self.y + 1\n",
    "        elif action == 3:\n",
    "            if self.y == 2:\n",
    "                self.y = self.y + 1\n",
    "            else:\n",
    "                self.y = self.y - 1\n",
    "        else:\n",
    "            RuntimeError('Error: action not recognized')\n",
    "\n",
    "        self.t = self.t + 1\n",
    "        reward = self.board[self.x, self.y]\n",
    "        self.board[self.x, self.y] = 0\n",
    "        game_over = self.t > self.max_time\n",
    "        state = np.concatenate((self.board.reshape(self.grid_size, self.grid_size,1),\n",
    "                        self.position.reshape(self.grid_size, self.grid_size,1)),axis=2)\n",
    "        state = state[self.x-2:self.x+3,self.y-2:self.y+3,:]\n",
    "\n",
    "        return state, reward, game_over\n",
    "\n",
    "    def reset(self):\n",
    "        \"\"\"This function resets the game and returns the initial state\"\"\"\n",
    "\n",
    "        self.x = np.random.randint(3, self.grid_size-3, size=1)[0]\n",
    "        self.y = np.random.randint(3, self.grid_size-3, size=1)[0]\n",
    "\n",
    "\n",
    "        bonus = 0.5*np.random.binomial(1,self.temperature,size=self.grid_size**2)\n",
    "        bonus = bonus.reshape(self.grid_size,self.grid_size)\n",
    "\n",
    "        malus = -1.0*np.random.binomial(1,self.temperature,size=self.grid_size**2)\n",
    "        malus = malus.reshape(self.grid_size, self.grid_size)\n",
    "\n",
    "        self.to_draw = np.zeros((self.max_time+2, self.grid_size*self.scale, self.grid_size*self.scale, 3))\n",
    "\n",
    "\n",
    "        malus[bonus>0]=0\n",
    "\n",
    "        self.board = bonus + malus\n",
    "\n",
    "        self.position = np.zeros((self.grid_size, self.grid_size))\n",
    "        self.position[0:2,:]= -1\n",
    "        self.position[:,0:2] = -1\n",
    "        self.position[-2:, :] = -1\n",
    "        self.position[-2:, :] = -1\n",
    "        self.board[self.x,self.y] = 0\n",
    "        self.t = 0\n",
    "\n",
    "        state = np.concatenate((\n",
    "                               self.board.reshape(self.grid_size, self.grid_size,1),\n",
    "                        self.position.reshape(self.grid_size, self.grid_size,1)),axis=2)\n",
    "\n",
    "        state = state[self.x - 2:self.x + 3, self.y - 2:self.y + 3, :]\n",
    "        return state"
   ]
  },
  {
   "cell_type": "markdown",
   "metadata": {
    "colab_type": "text",
    "id": "MjgbP4REcYT7"
   },
   "source": [
    "The following elements are important because they correspond to the hyper parameters for this project:"
   ]
  },
  {
   "cell_type": "code",
   "execution_count": 0,
   "metadata": {
    "colab": {},
    "colab_type": "code",
    "id": "M4XlZ82gcYT7"
   },
   "outputs": [],
   "source": [
    "# parameters\n",
    "size = 13\n",
    "T=200\n",
    "temperature=0.3\n",
    "epochs_train=53 # set small when debugging\n",
    "epochs_test=15 # set small when debugging\n",
    "\n",
    "# display videos\n",
    "def display_videos(name):\n",
    "    video = io.open(name, 'r+b').read()\n",
    "    encoded = base64.b64encode(video)\n",
    "    return '''<video alt=\"test\" controls>\n",
    "                <source src=\"data:video/mp4;base64,{0}\" type=\"video/mp4\" />\n",
    "             </video>'''.format(encoded.decode('ascii'))"
   ]
  },
  {
   "cell_type": "markdown",
   "metadata": {
    "colab_type": "text",
    "id": "mmj-_e7McYUA"
   },
   "source": [
    "__Question 2__ Explain the use of the arrays ```position``` and ```board```."
   ]
  },
  {
   "cell_type": "markdown",
   "metadata": {
    "colab_type": "text",
    "id": "w2Yn5gs-cYUB"
   },
   "source": [
    "The board variable represents the locations of the rewards (food and poison) on all positions in the grid.\n",
    "The position variable represents the coordinates of the position of the rat at every step before he takes an action."
   ]
  },
  {
   "cell_type": "markdown",
   "metadata": {
    "colab_type": "text",
    "id": "X63yy5n8cYUB"
   },
   "source": [
    "## Random Agent"
   ]
  },
  {
   "cell_type": "markdown",
   "metadata": {
    "colab_type": "text",
    "id": "eOPXvO3scYUD"
   },
   "source": [
    "***\n",
    "__Question 3__ Implement a random Agent (only ```learned_act``` needs to be implemented):"
   ]
  },
  {
   "cell_type": "code",
   "execution_count": 0,
   "metadata": {
    "colab": {},
    "colab_type": "code",
    "id": "xeyW8Y1gcYUE"
   },
   "outputs": [],
   "source": [
    "class RandomAgent(Agent):\n",
    "    def __init__(self):\n",
    "        super(RandomAgent, self).__init__()\n",
    "        pass\n",
    "\n",
    "    def learned_act(self, s):\n",
    "        return randint(0,3)"
   ]
  },
  {
   "cell_type": "markdown",
   "metadata": {
    "colab_type": "text",
    "id": "wOr-8dZYcYUG"
   },
   "source": [
    "***\n",
    "***\n",
    "__Question 4__ Visualize the game moves. You need to fill in the following function for the evaluation:"
   ]
  },
  {
   "cell_type": "code",
   "execution_count": 0,
   "metadata": {
    "colab": {},
    "colab_type": "code",
    "id": "mn7JEQQ2cYUG"
   },
   "outputs": [],
   "source": [
    "def test(agent,env,epochs,prefix=''):\n",
    "    # Number of won games\n",
    "    score = 0\n",
    "        \n",
    "    for e in range(epochs):\n",
    "        state = env.reset()\n",
    "        game_over = False \n",
    "        win = 0\n",
    "        lose = 0\n",
    "        while not game_over:\n",
    "            action = agent.act(state)\n",
    "            prev_state = state\n",
    "            state, reward, game_over = env.act(action)\n",
    "            if reward > 0:\n",
    "                win = win + reward\n",
    "            if reward < 0:\n",
    "                lose = lose -reward\n",
    "        \n",
    "        # Save as a mp4\n",
    "        env.draw(prefix+str(e))\n",
    "\n",
    "        # Update stats\n",
    "        score = score + win-lose\n",
    "\n",
    "        print(\"Win/lose count {}/{}. Average score ({})\"\n",
    "              .format(win, lose, score/(1+e)))\n",
    "    print('Final score: '+str(score/epochs))"
   ]
  },
  {
   "cell_type": "code",
   "execution_count": 0,
   "metadata": {
    "colab": {
     "base_uri": "https://localhost:8080/",
     "height": 443
    },
    "colab_type": "code",
    "id": "UFZriuhdcYUK",
    "outputId": "78937f8b-5546-4dc4-a777-c5167a243cbb"
   },
   "outputs": [
    {
     "name": "stdout",
     "output_type": "stream",
     "text": [
      "Win/lose count 7.5/19.0. Average score (-11.5)\n",
      "Win/lose count 10.0/16.0. Average score (-8.75)\n",
      "Win/lose count 5.5/11.0. Average score (-7.666666666666667)\n",
      "Win/lose count 12.5/14.0. Average score (-6.125)\n",
      "Win/lose count 10.5/12.0. Average score (-5.2)\n",
      "Win/lose count 14.0/12.0. Average score (-4.0)\n",
      "Win/lose count 12.0/9.0. Average score (-3.0)\n",
      "Win/lose count 10.0/21.0. Average score (-4.0)\n",
      "Win/lose count 7.5/24.0. Average score (-5.388888888888889)\n",
      "Win/lose count 9.0/21.0. Average score (-6.05)\n",
      "Win/lose count 7.0/8.0. Average score (-5.590909090909091)\n",
      "Win/lose count 9.5/8.0. Average score (-5.0)\n",
      "Win/lose count 4.0/13.0. Average score (-5.3076923076923075)\n",
      "Win/lose count 12.0/13.0. Average score (-5.0)\n",
      "Win/lose count 7.5/27.0. Average score (-5.966666666666667)\n",
      "Final score: -5.966666666666667\n"
     ]
    },
    {
     "data": {
      "text/html": [
       "<video alt=\"test\" controls>\n",
       "                <source src=\"data:video/mp4;base64,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\" type=\"video/mp4\" />\n",
       "             </video>"
      ],
      "text/plain": [
       "<IPython.core.display.HTML object>"
      ]
     },
     "execution_count": 72,
     "metadata": {
      "tags": []
     },
     "output_type": "execute_result"
    }
   ],
   "source": [
    "# Initialize the game\n",
    "env = Environment(grid_size=size, max_time=T,temperature=temperature)\n",
    "\n",
    "# Initialize the agent!\n",
    "agent = RandomAgent()\n",
    "\n",
    "test(agent,env,epochs_test,prefix='random')\n",
    "HTML(display_videos('random0.mp4'))"
   ]
  },
  {
   "cell_type": "markdown",
   "metadata": {
    "colab_type": "text",
    "id": "rZLg2VTacYUO"
   },
   "source": [
    "***\n",
    "## DQN"
   ]
  },
  {
   "cell_type": "markdown",
   "metadata": {
    "colab_type": "text",
    "id": "RFkfWeXzcYUO"
   },
   "source": [
    "Let us assume here that $T=\\infty$.\n",
    "\n",
    "***\n",
    "__Question 5__ \n",
    "\n",
    "__Q1:__\n",
    "\n",
    "Let $\\pi$ be a policy, show that:\n",
    "\n",
    "\n",
    "\\begin{equation*}\n",
    "Q^{\\pi}(s,a)=E_{(s',a')\\sim p(.|s,a)}[r(s,a)+\\gamma Q^{\\pi}(s',a')]\n",
    "\\end{equation*}\n",
    "\n",
    "__Q2:__\n",
    "\n",
    "Then, show that for the optimal policy $\\pi^*$ (we assume its existence), the following holds: \n",
    "\n",
    "\\begin{equation*}\n",
    "Q^{*}(s,a)=E_{s'\\sim \\pi^*(.|s,a)}[r(s,a)+\\gamma\\max_{a'}Q^{*}(s',a')].\n",
    "\\end{equation*}\n",
    "\n",
    "__Q3:__\n",
    "\n",
    "Finally, deduce that a plausible objective is:\n",
    "\n",
    "\\begin{equation*}\n",
    "\\mathcal{L}(\\theta)=E_{s' \\sim \\pi^*(.|s,a)}\\Vert r+\\gamma\\max_{a'}Q(s',a',\\theta)-Q(s,a,\\theta)\\Vert^{2}.\n",
    "\\end{equation*}\n",
    "\n",
    "\n"
   ]
  },
  {
   "cell_type": "markdown",
   "metadata": {
    "colab_type": "text",
    "id": "udXi8sO6cYUQ"
   },
   "source": [
    "###Answer: \n",
    "\n",
    "__Q1:__\n",
    "\n",
    "We have $Q^{\\pi}=E_{p^{\\pi}}(\\sum_{t\\leq T} \\gamma^{t}r(s_{t},a_{t})|s_{0}=s,a_{0}=a)=r(s,a)+\\gamma E_{p^{\\pi}}(\\sum_{t\\leq T} \\gamma^{t}r(s_{t+1},a_{t+1})|s_{0}=s,a_{0}=a)$ \n",
    "\n",
    "And $r(s,a)=E_{(s',a')\\sim p(.|s,a)}(r(s,a))$.\n",
    "\n",
    "##### First term: \n",
    "\n",
    "Let us considered $r(s,a)=E(R(s_{0}=s,a_{0}=a))$. As $(s_{1},a_{1})\\sim p(.|s_{0},a_{0})$, \n",
    "\n",
    "So $(s_{1},a_{1})$ is $(s_{0},a_{0})$-measurable.\n",
    "\n",
    "Therefore, we have $E(R(s_{0},a_{0}))=E(E(R(s_{0},a_{0}))|s_{1},a_{1})$\n",
    "\n",
    "##### Second term:\n",
    "\n",
    "Let's call $X=\\sum_{t\\leq T} \\gamma^{t}r(s_{t+1},a_{t+1}$. $X$ is $(s_{1},a_{1})$-measurable, therefore $$E_{p^{\\pi}}(X|s_{0},a_{0})=E_{p^{\\pi}}(E_{p^{\\pi}}(X|s_{1},a_{1})|s_{0},a_{0})=E_{(s_{1},a_{1})\\sim{p^{\\pi}}(.|s_{0},a_{0})}(E_{p^{\\pi}}(X|s_{1},a_{1}))$$\n",
    "\n",
    "\n",
    "\n",
    "$T=\\infty$, so we have $E_{p^{\\pi}}(X|s_{1}=s',a_{1}=a')=Q^{\\pi}(s',a')$, we then have the result:\n",
    "\n",
    "\\begin{equation*}\n",
    "Q^{\\pi}(s,a)=E_{(s',a')\\sim p(.|s,a)}[r(s,a)+\\gamma Q^{\\pi}(s',a')]\n",
    "\\end{equation*}\n",
    "\n",
    "__Q2:__\n",
    "\n",
    "__Answer:__\n",
    "\n",
    "$\\pi^{*}$ is a deterministic policy, which means that from the original state $(s,a)$, we have $a=\\pi^{*}(s)$, and $s' \\sim p(.|s,a)$, then $a'=\\pi^{*}(s')$, $s'$ being sampled here from a probability distribution that is inherent to the environment. \n",
    "\n",
    "Therefore, we have $Q^{\\pi}(s,a)=E_{s'\\sim p(.|s,a)}[r(s,a)+\\gamma Q^{\\pi}(s',\\pi^{*}(s'))]=E_{s'\\sim p(.|s,a)}[r(s,a)+\\gamma \\max_{a'}Q^{*}(s',a')]$\n",
    "\n",
    "__Q3:__\n",
    "\n",
    "The loss function used here is $\\mathcal{L}(\\theta)=E_{s' \\sim \\pi^*(.|s,a)}\\Vert r+\\gamma\\max_{a'}Q(s',a',\\theta)-Q(s,a,\\theta)\\Vert^{2}$\n",
    "\n",
    "$\\mathcal{L}(\\theta)=[E_{s' \\sim \\pi^*(.|s,a)}(r+\\gamma\\max_{a'}Q(s',a',\\theta)-E_{s' \\sim \\pi^*(.|s,a)}Q(s,a,\\theta))]^{2}+Var_{s' \\sim \\pi^*(.|s,a)}(r+\\gamma\\max_{a'}Q(s',a',\\theta)$\n",
    "\n",
    "$\\mathcal{L}(\\theta)=E_{s' \\sim \\pi^*(.|s,a)}(Q^{*}(s,a,\\theta)-Q(s,a,\\theta))^{2}+Var_{s' \\sim \\pi^*(.|s,a)}[r+\\gamma\\max_{a'}Q(s',a',\\theta)]$\n",
    "\n",
    "The term $Var_{s' \\sim \\pi^*(.|s,a)}[r+\\gamma\\max_{a'}Q(s',a',\\theta)]$ has the goal that the policy tends to a deterministic policy, which is coherent with the idea that at the end of the training, exploitation is necessary in order to achieve good performance.\n",
    "\n",
    "The term $\\mathcal{L}(\\theta)=E_{s' \\sim \\pi^*(.|s,a)}(Q^{*}(s,a,\\theta)-Q(s,a,\\theta))^{2}$ has the goal that the policy tends to the optimal policy. In fact, for $\\pi$ deterministic policy, we have $Q^{*}=Q^{\\pi} \\iff \\pi=\\pi^{*}$, with $\\pi^{*}$ the optimal policy."
   ]
  },
  {
   "cell_type": "markdown",
   "metadata": {
    "colab_type": "text",
    "id": "O7BbtC_RcYUQ"
   },
   "source": [
    "***\n",
    "The DQN-learning algorithm relies on these derivations to train the parameters $\\theta$ of a Deep Neural Network:\n",
    "\n",
    "1. At the state $s_t$, select the action $a_t$ with best reward using $Q_t$ and store the results;\n",
    "\n",
    "2. Obtain the new state $s_{t+1}$ from the environment $p$;\n",
    "\n",
    "3. Store $(s_t,a_t,s_{t+1})$;\n",
    "\n",
    "4. Obtain $Q_{t+1}$ by minimizing  $\\mathcal{L}$ from a recovered batch from the previously stored results.\n",
    "\n",
    "***\n",
    "__Question 6__ Implement the class ```Memory``` that stores moves (in a replay buffer) via ```remember``` and provides a ```random_access``` to these. Specify a maximum memory size to avoid side effects. You can for example use a ```list()``` and set by default ```max_memory=100```."
   ]
  },
  {
   "cell_type": "code",
   "execution_count": 0,
   "metadata": {
    "colab": {},
    "colab_type": "code",
    "id": "0lwug6POcYUR"
   },
   "outputs": [],
   "source": [
    "class Memory(object):\n",
    "    def __init__(self, max_memory=100):\n",
    "        self.max_memory = max_memory\n",
    "        self.memory = list()\n",
    "\n",
    "    def remember(self, m):\n",
    "        if len(self.memory) < self.max_memory:\n",
    "          self.memory.append(m)\n",
    "        else: \n",
    "          self.memory = self.memory[1:]+[m]\n",
    "\n",
    "    def random_access(self):\n",
    "        return self.memory[np.random.randint(0,len(self.memory))]"
   ]
  },
  {
   "cell_type": "markdown",
   "metadata": {
    "colab_type": "text",
    "id": "GWrQUV2ycYUX"
   },
   "source": [
    "***\n",
    "The pipeline we will use for training is given below:"
   ]
  },
  {
   "cell_type": "code",
   "execution_count": 0,
   "metadata": {
    "colab": {},
    "colab_type": "code",
    "id": "rAVMlZFbcYUY"
   },
   "outputs": [],
   "source": [
    "def train(agent,env,epoch,prefix=''):\n",
    "    # Number of won games\n",
    "    score = 0\n",
    "    loss = 0\n",
    "\n",
    "    for e in range(epoch):\n",
    "        # At each epoch, we restart to a fresh game and get the initial state\n",
    "        state = env.reset()\n",
    "        # This assumes that the games will terminate\n",
    "        game_over = False\n",
    "\n",
    "        win = 0\n",
    "        lose = 0\n",
    "\n",
    "        while not game_over:\n",
    "            # The agent performs an action\n",
    "            action = agent.act(state)\n",
    "\n",
    "            # Apply an action to the environment, get the next state, the reward\n",
    "            # and if the games end\n",
    "            prev_state = state\n",
    "            state, reward, game_over = env.act(action)\n",
    "\n",
    "            # Update the counters\n",
    "            if reward > 0:\n",
    "                win = win + reward\n",
    "            if reward < 0:\n",
    "                lose = lose -reward\n",
    "\n",
    "            # Apply the reinforcement strategy\n",
    "            loss = agent.reinforce(prev_state, state,  action, reward, game_over)\n",
    "\n",
    "        # Save as a mp4\n",
    "        if e % 10 == 0:\n",
    "            env.draw(prefix+str(e))\n",
    "\n",
    "        # Update stats\n",
    "        score += win-lose\n",
    "\n",
    "        print(\"Epoch {:03d}/{:03d} | Loss {:.4f} | Win/lose count {}/{} ({})\"\n",
    "              .format(e, epoch, loss, win, lose, win-lose))\n",
    "        agent.save(name_weights=prefix+'model.h5',name_model=prefix+'model.json')"
   ]
  },
  {
   "cell_type": "markdown",
   "metadata": {
    "colab_type": "text",
    "id": "Vn0XV3ltcYUa"
   },
   "source": [
    "***\n",
    "__Question 7__ Implement the DQN training algorithm using a cascade of fully connected layers. You can use different learning rate, batch size or memory size parameters. In particular, the loss might oscillate while the player will start to win the games. You have to find a good criterium."
   ]
  },
  {
   "cell_type": "code",
   "execution_count": 0,
   "metadata": {
    "colab": {},
    "colab_type": "code",
    "id": "yj_JwfkJcYUb"
   },
   "outputs": [],
   "source": [
    "class DQN(Agent):\n",
    "    def __init__(self, grid_size,  epsilon = 0.1, memory_size=100, batch_size = 16,n_state=2):\n",
    "        super(DQN, self).__init__(epsilon = epsilon)\n",
    "\n",
    "        # Discount for Q learning\n",
    "        self.discount = 0.98\n",
    "        self.grid_size = grid_size\n",
    "        \n",
    "        # number of state\n",
    "        self.n_state = n_state\n",
    "\n",
    "        # Memory\n",
    "        self.memory = Memory(memory_size)\n",
    "        \n",
    "        # Batch size when learning\n",
    "        self.batch_size = batch_size\n",
    "\n",
    "    def learned_act(self, s):\n",
    "        return self.model.predict(s.reshape(1,5,5,self.n_state)).argmax()\n",
    "\n",
    "    def reinforce(self, s_, n_s_, a_, r_, game_over_):\n",
    "        # Two steps: first memorize the states, second learn from the pool\n",
    "        \n",
    "        self.memory.remember([s_, n_s_, a_, r_, game_over_])\n",
    "\n",
    "        input_states = np.zeros((self.batch_size, 5,5,self.n_state))\n",
    "        targetq = np.zeros((self.batch_size, 4))\n",
    "        \n",
    "        for i in range(self.batch_size):\n",
    "            \n",
    "            s,ns,a,r,go = self.memory.random_access()\n",
    "            s = s.reshape(1,5,5,self.n_state)\n",
    "            ns = ns.reshape(1,5,5,self.n_state)\n",
    "            input_states[i] = s\n",
    "            \n",
    "            if game_over_:\n",
    "                targetq[i] = self.model.predict(s)\n",
    "                targetq[i,a] = r\n",
    "            else:\n",
    "                targetq[i] = self.model.predict(s)\n",
    "                targetq[i,a] = r + self.discount*(self.model.predict(ns)).max()\n",
    "                \n",
    "        targetq = np.clip(targetq, -3, 3)\n",
    "\n",
    "        l = self.model.train_on_batch(input_states, targetq)\n",
    "\n",
    "\n",
    "        return l\n",
    "\n",
    "    def save(self,name_weights='model.h5',name_model='model.json'):\n",
    "        self.model.save_weights(name_weights, overwrite=True)\n",
    "        with open(name_model, \"w\") as outfile:\n",
    "            json.dump(self.model.to_json(), outfile)\n",
    "            \n",
    "    def load(self,name_weights='model.h5',name_model='model.json'):\n",
    "        with open(name_model, \"r\") as jfile:\n",
    "            model = model_from_json(json.load(jfile))\n",
    "        model.load_weights(name_weights)\n",
    "        model.compile(\"sgd\", \"mse\")\n",
    "        self.model = model\n",
    "\n",
    "            \n",
    "class DQN_FC(DQN):\n",
    "    def __init__(self, *args, lr=0.1,**kwargs):\n",
    "        super(DQN_FC, self).__init__( *args,**kwargs)\n",
    "        model = Sequential()\n",
    "        model.add(Flatten(input_shape = (5,5,self.n_state)))\n",
    "        model.add(Dense(16,activation = 'relu'))\n",
    "        model.add(Dense(4,activation = 'linear'))\n",
    "                    \n",
    "        model.compile(sgd(lr=lr, decay=1e-4, momentum=0.0), \"mse\")\n",
    "        self.model = model"
   ]
  },
  {
   "cell_type": "code",
   "execution_count": 0,
   "metadata": {
    "colab": {
     "base_uri": "https://localhost:8080/",
     "height": 1072
    },
    "colab_type": "code",
    "id": "8FxzEa4JcYUe",
    "outputId": "52e5a850-0de1-487f-d8f9-101fe933afb0"
   },
   "outputs": [
    {
     "name": "stdout",
     "output_type": "stream",
     "text": [
      "Epoch 000/053 | Loss 0.0519 | Win/lose count 6.0/8.0 (-2.0)\n",
      "Epoch 001/053 | Loss 0.3104 | Win/lose count 6.5/2.0 (4.5)\n",
      "Epoch 002/053 | Loss 0.7418 | Win/lose count 4.0/3.0 (1.0)\n",
      "Epoch 003/053 | Loss 1.1178 | Win/lose count 4.5/8.0 (-3.5)\n",
      "Epoch 004/053 | Loss 1.3976 | Win/lose count 3.5/5.0 (-1.5)\n",
      "Epoch 005/053 | Loss 1.4846 | Win/lose count 1.0/2.0 (-1.0)\n",
      "Epoch 006/053 | Loss 1.6427 | Win/lose count 0.5/3.0 (-2.5)\n",
      "Epoch 007/053 | Loss 1.6607 | Win/lose count 3.5/1.0 (2.5)\n",
      "Epoch 008/053 | Loss 1.4357 | Win/lose count 1.5/1.0 (0.5)\n",
      "Epoch 009/053 | Loss 1.4963 | Win/lose count 3.5/3.0 (0.5)\n",
      "Epoch 010/053 | Loss 1.2909 | Win/lose count 6.5/2.0 (4.5)\n",
      "Epoch 011/053 | Loss 1.1858 | Win/lose count 6.0/5.0 (1.0)\n",
      "Epoch 012/053 | Loss 1.2260 | Win/lose count 2.5/8.0 (-5.5)\n",
      "Epoch 013/053 | Loss 1.1290 | Win/lose count 2.5/4.0 (-1.5)\n",
      "Epoch 014/053 | Loss 1.1184 | Win/lose count 3.5/3.0 (0.5)\n",
      "Epoch 015/053 | Loss 1.1405 | Win/lose count 4.0/5.0 (-1.0)\n",
      "Epoch 016/053 | Loss 1.0867 | Win/lose count 2.0/2.0 (0.0)\n",
      "Epoch 017/053 | Loss 1.2056 | Win/lose count 4.5/4.0 (0.5)\n",
      "Epoch 018/053 | Loss 1.1093 | Win/lose count 6.5/4.0 (2.5)\n",
      "Epoch 019/053 | Loss 1.1616 | Win/lose count 4.5/3.0 (1.5)\n",
      "Epoch 020/053 | Loss 1.1775 | Win/lose count 3.5/1.0 (2.5)\n",
      "Epoch 021/053 | Loss 1.0902 | Win/lose count 3.0/1.0 (2.0)\n",
      "Epoch 022/053 | Loss 0.9968 | Win/lose count 4.5/1.0 (3.5)\n",
      "Epoch 023/053 | Loss 1.0729 | Win/lose count 6.0/1.0 (5.0)\n",
      "Epoch 024/053 | Loss 1.1209 | Win/lose count 9.5/3.0 (6.5)\n",
      "Epoch 025/053 | Loss 0.9605 | Win/lose count 7.0/4.0 (3.0)\n",
      "Epoch 026/053 | Loss 0.9524 | Win/lose count 7.0/3.0 (4.0)\n",
      "Epoch 027/053 | Loss 0.9895 | Win/lose count 7.0/3.0 (4.0)\n",
      "Epoch 028/053 | Loss 0.9703 | Win/lose count 4.5/2.0 (2.5)\n",
      "Epoch 029/053 | Loss 0.9392 | Win/lose count 5.0/4.0 (1.0)\n",
      "Epoch 030/053 | Loss 0.9864 | Win/lose count 8.5/6.0 (2.5)\n",
      "Epoch 031/053 | Loss 1.0659 | Win/lose count 3.5/2.0 (1.5)\n",
      "Epoch 032/053 | Loss 1.1037 | Win/lose count 5.0/4.0 (1.0)\n",
      "Epoch 033/053 | Loss 1.0967 | Win/lose count 4.0/2.0 (2.0)\n",
      "Epoch 034/053 | Loss 1.1412 | Win/lose count 12.0/5.0 (7.0)\n",
      "Epoch 035/053 | Loss 1.0989 | Win/lose count 10.0/5.0 (5.0)\n",
      "Epoch 036/053 | Loss 1.1021 | Win/lose count 7.5/1.0 (6.5)\n",
      "Epoch 037/053 | Loss 1.0450 | Win/lose count 11.5/1.0 (10.5)\n",
      "Epoch 038/053 | Loss 1.1773 | Win/lose count 12.0/7.0 (5.0)\n",
      "Epoch 039/053 | Loss 1.0956 | Win/lose count 10.5/3.0 (7.5)\n",
      "Epoch 040/053 | Loss 1.2011 | Win/lose count 11.5/5.0 (6.5)\n",
      "Epoch 041/053 | Loss 1.1612 | Win/lose count 4.5/1.0 (3.5)\n",
      "Epoch 042/053 | Loss 1.2787 | Win/lose count 9.0/6.0 (3.0)\n",
      "Epoch 043/053 | Loss 1.3002 | Win/lose count 9.0/4.0 (5.0)\n",
      "Epoch 044/053 | Loss 1.3754 | Win/lose count 12.5/8.0 (4.5)\n",
      "Epoch 045/053 | Loss 1.4160 | Win/lose count 11.0/1.0 (10.0)\n",
      "Epoch 046/053 | Loss 1.3921 | Win/lose count 9.5/4.0 (5.5)\n",
      "Epoch 047/053 | Loss 1.3725 | Win/lose count 8.0/1.0 (7.0)\n",
      "Epoch 048/053 | Loss 1.4042 | Win/lose count 6.0/2.0 (4.0)\n",
      "Epoch 049/053 | Loss 1.4258 | Win/lose count 10.0/4.0 (6.0)\n",
      "Epoch 050/053 | Loss 1.3004 | Win/lose count 21.0/7.0 (14.0)\n",
      "Epoch 051/053 | Loss 1.3362 | Win/lose count 4.0/3.0 (1.0)\n",
      "Epoch 052/053 | Loss 1.3679 | Win/lose count 11.5/2.0 (9.5)\n"
     ]
    },
    {
     "data": {
      "text/html": [
       "<video alt=\"test\" controls>\n",
       "                <source src=\"data:video/mp4;base64,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\" type=\"video/mp4\" />\n",
       "             </video>"
      ],
      "text/plain": [
       "<IPython.core.display.HTML object>"
      ]
     },
     "execution_count": 78,
     "metadata": {
      "tags": []
     },
     "output_type": "execute_result"
    }
   ],
   "source": [
    "env = Environment(grid_size=size, max_time=T, temperature=0.3)\n",
    "agent = DQN_FC(size, lr=.1, epsilon = 0.1, memory_size=2000, batch_size = 32)\n",
    "train(agent, env, epochs_train, prefix='fc_train')\n",
    "HTML(display_videos('fc_train10.mp4'))"
   ]
  },
  {
   "cell_type": "markdown",
   "metadata": {
    "colab_type": "text",
    "id": "ihThYGDNcYUh"
   },
   "source": [
    "***\n",
    "***\n",
    "__Question 8__ Implement the DQN training algorithm using a CNN (for example, 2 convolutional layers and one final fully connected layer)."
   ]
  },
  {
   "cell_type": "code",
   "execution_count": 0,
   "metadata": {
    "colab": {},
    "colab_type": "code",
    "id": "O0oKCy4PcYUi"
   },
   "outputs": [],
   "source": [
    "class DQN_CNN(DQN):\n",
    "    def __init__(self, *args,lr=0.1,**kwargs):\n",
    "        super(DQN_CNN, self).__init__(*args,**kwargs)\n",
    "        model = Sequential()\n",
    "        model.add(Conv2D(16,kernel_size=(3,3), activation = \"relu\"))\n",
    "        model.add(Conv2D(16,kernel_size=(3,3),activation = 'relu'))\n",
    "        model.add(Flatten())\n",
    "        model.add(Dense(4,activation = \"linear\"))\n",
    "        model.compile(sgd(lr=lr, decay=1e-4, momentum=0.0), \"mse\")\n",
    "        self.model = model"
   ]
  },
  {
   "cell_type": "code",
   "execution_count": 0,
   "metadata": {
    "colab": {
     "base_uri": "https://localhost:8080/",
     "height": 1072
    },
    "colab_type": "code",
    "id": "pVTj_2-3cYUm",
    "outputId": "fb8b80a3-622d-43cb-d164-2686a6579189"
   },
   "outputs": [
    {
     "name": "stdout",
     "output_type": "stream",
     "text": [
      "Epoch 000/053 | Loss 0.0199 | Win/lose count 3.5/5.0 (-1.5)\n",
      "Epoch 001/053 | Loss 0.0288 | Win/lose count 4.5/6.0 (-1.5)\n",
      "Epoch 002/053 | Loss 0.0358 | Win/lose count 2.0/0 (2.0)\n",
      "Epoch 003/053 | Loss 0.0636 | Win/lose count 2.0/2.0 (0.0)\n",
      "Epoch 004/053 | Loss 0.1421 | Win/lose count 8.5/2.0 (6.5)\n",
      "Epoch 005/053 | Loss 0.3001 | Win/lose count 3.5/2.0 (1.5)\n",
      "Epoch 006/053 | Loss 0.8715 | Win/lose count 6.5/1.0 (5.5)\n",
      "Epoch 007/053 | Loss 1.6251 | Win/lose count 5.0/4.0 (1.0)\n",
      "Epoch 008/053 | Loss 1.8113 | Win/lose count 5.0/0 (5.0)\n",
      "Epoch 009/053 | Loss 1.8359 | Win/lose count 1.5/2.0 (-0.5)\n",
      "Epoch 010/053 | Loss 1.6383 | Win/lose count 5.5/5.0 (0.5)\n",
      "Epoch 011/053 | Loss 1.8647 | Win/lose count 5.0/3.0 (2.0)\n",
      "Epoch 012/053 | Loss 1.7270 | Win/lose count 3.0/1.0 (2.0)\n",
      "Epoch 013/053 | Loss 1.5232 | Win/lose count 5.5/0 (5.5)\n",
      "Epoch 014/053 | Loss 1.6290 | Win/lose count 6.0/3.0 (3.0)\n",
      "Epoch 015/053 | Loss 1.6786 | Win/lose count 5.0/1.0 (4.0)\n",
      "Epoch 016/053 | Loss 1.6801 | Win/lose count 4.5/2.0 (2.5)\n",
      "Epoch 017/053 | Loss 1.6943 | Win/lose count 9.0/3.0 (6.0)\n",
      "Epoch 018/053 | Loss 1.6787 | Win/lose count 4.5/3.0 (1.5)\n",
      "Epoch 019/053 | Loss 1.5957 | Win/lose count 10.0/4.0 (6.0)\n",
      "Epoch 020/053 | Loss 1.5435 | Win/lose count 9.0/2.0 (7.0)\n",
      "Epoch 021/053 | Loss 1.4714 | Win/lose count 9.0/3.0 (6.0)\n",
      "Epoch 022/053 | Loss 1.4751 | Win/lose count 7.5/4.0 (3.5)\n",
      "Epoch 023/053 | Loss 1.5661 | Win/lose count 15.5/2.0 (13.5)\n",
      "Epoch 024/053 | Loss 1.5870 | Win/lose count 7.0/4.0 (3.0)\n",
      "Epoch 025/053 | Loss 1.6977 | Win/lose count 10.5/4.0 (6.5)\n",
      "Epoch 026/053 | Loss 1.5630 | Win/lose count 9.0/3.0 (6.0)\n",
      "Epoch 027/053 | Loss 1.5479 | Win/lose count 15.5/6.0 (9.5)\n",
      "Epoch 028/053 | Loss 1.6346 | Win/lose count 8.5/4.0 (4.5)\n",
      "Epoch 029/053 | Loss 1.6605 | Win/lose count 7.5/0 (7.5)\n",
      "Epoch 030/053 | Loss 1.6976 | Win/lose count 15.5/2.0 (13.5)\n",
      "Epoch 031/053 | Loss 1.6321 | Win/lose count 9.0/7.0 (2.0)\n",
      "Epoch 032/053 | Loss 1.5324 | Win/lose count 10.0/0 (10.0)\n",
      "Epoch 033/053 | Loss 1.5086 | Win/lose count 3.0/2.0 (1.0)\n",
      "Epoch 034/053 | Loss 1.3706 | Win/lose count 12.0/1.0 (11.0)\n",
      "Epoch 035/053 | Loss 1.3663 | Win/lose count 1.5/0 (1.5)\n",
      "Epoch 036/053 | Loss 1.4519 | Win/lose count 9.0/3.0 (6.0)\n",
      "Epoch 037/053 | Loss 1.5856 | Win/lose count 25.5/3.0 (22.5)\n",
      "Epoch 038/053 | Loss 1.5012 | Win/lose count 8.0/2.0 (6.0)\n",
      "Epoch 039/053 | Loss 1.5439 | Win/lose count 16.0/3.0 (13.0)\n",
      "Epoch 040/053 | Loss 1.5810 | Win/lose count 14.0/1.0 (13.0)\n",
      "Epoch 041/053 | Loss 1.6049 | Win/lose count 5.5/1.0 (4.5)\n",
      "Epoch 042/053 | Loss 1.5720 | Win/lose count 3.0/2.0 (1.0)\n",
      "Epoch 043/053 | Loss 1.6030 | Win/lose count 15.5/8.0 (7.5)\n",
      "Epoch 044/053 | Loss 1.5021 | Win/lose count 10.0/5.0 (5.0)\n",
      "Epoch 045/053 | Loss 1.5627 | Win/lose count 17.0/2.0 (15.0)\n",
      "Epoch 046/053 | Loss 1.5792 | Win/lose count 6.5/3.0 (3.5)\n",
      "Epoch 047/053 | Loss 1.5439 | Win/lose count 16.0/2.0 (14.0)\n",
      "Epoch 048/053 | Loss 1.4912 | Win/lose count 20.0/2.0 (18.0)\n",
      "Epoch 049/053 | Loss 1.5082 | Win/lose count 13.5/3.0 (10.5)\n",
      "Epoch 050/053 | Loss 1.4678 | Win/lose count 16.5/6.0 (10.5)\n",
      "Epoch 051/053 | Loss 1.5790 | Win/lose count 13.5/3.0 (10.5)\n",
      "Epoch 052/053 | Loss 1.5081 | Win/lose count 12.0/1.0 (11.0)\n"
     ]
    },
    {
     "data": {
      "text/html": [
       "<video alt=\"test\" controls>\n",
       "                <source src=\"data:video/mp4;base64,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\" type=\"video/mp4\" />\n",
       "             </video>"
      ],
      "text/plain": [
       "<IPython.core.display.HTML object>"
      ]
     },
     "execution_count": 80,
     "metadata": {
      "tags": []
     },
     "output_type": "execute_result"
    }
   ],
   "source": [
    "env = Environment(grid_size=size, max_time=T, temperature=0.3)\n",
    "agent = DQN_CNN(size, lr=.1, epsilon = 0.1, memory_size=2000, batch_size = 32)\n",
    "train(agent,env,epochs_train,prefix='cnn_train')\n",
    "HTML(display_videos('cnn_train10.mp4'))"
   ]
  },
  {
   "cell_type": "markdown",
   "metadata": {
    "colab_type": "text",
    "id": "Eg_mFOxZcYUo"
   },
   "source": [
    "***\n",
    "***\n",
    "__Question 9__ Test both algorithms and compare their performances. Which issue(s) do you observe? Observe also different behaviors by changing the temperature."
   ]
  },
  {
   "cell_type": "code",
   "execution_count": 0,
   "metadata": {
    "colab": {
     "base_uri": "https://localhost:8080/",
     "height": 595
    },
    "colab_type": "code",
    "id": "7D1SrZwbcYUp",
    "outputId": "4cf852ae-66ae-4aab-ea2f-62eba02f2049"
   },
   "outputs": [
    {
     "name": "stdout",
     "output_type": "stream",
     "text": [
      "Test of the CNN\n",
      "Win/lose count 15.0/3.0. Average score (12.0)\n",
      "Win/lose count 18.0/6.0. Average score (12.0)\n",
      "Win/lose count 13.5/2.0. Average score (11.833333333333334)\n",
      "Win/lose count 8.5/3.0. Average score (10.25)\n",
      "Win/lose count 17.5/2.0. Average score (11.3)\n",
      "Win/lose count 15.5/1.0. Average score (11.833333333333334)\n",
      "Win/lose count 9.0/3.0. Average score (11.0)\n",
      "Win/lose count 13.5/1.0. Average score (11.1875)\n",
      "Win/lose count 8.0/1.0. Average score (10.722222222222221)\n",
      "Win/lose count 14.5/4.0. Average score (10.7)\n",
      "Win/lose count 8.5/3.0. Average score (10.227272727272727)\n",
      "Win/lose count 8.0/1.0. Average score (9.958333333333334)\n",
      "Win/lose count 3.0/1.0. Average score (9.346153846153847)\n",
      "Win/lose count 11.0/6.0. Average score (9.035714285714286)\n",
      "Win/lose count 5.0/2.0. Average score (8.633333333333333)\n",
      "Final score: 8.633333333333333\n",
      "Test of the FC\n",
      "Win/lose count 3.0/5.0. Average score (-2.0)\n",
      "Win/lose count 5.0/8.0. Average score (-2.5)\n",
      "Win/lose count 1.0/2.0. Average score (-2.0)\n",
      "Win/lose count 4.5/1.0. Average score (-0.625)\n",
      "Win/lose count 1.5/9.0. Average score (-2.0)\n",
      "Win/lose count 2.5/5.0. Average score (-2.0833333333333335)\n",
      "Win/lose count 1.0/0. Average score (-1.6428571428571428)\n",
      "Win/lose count 5.0/2.0. Average score (-1.0625)\n",
      "Win/lose count 5.5/6.0. Average score (-1.0)\n",
      "Win/lose count 1.5/6.0. Average score (-1.35)\n",
      "Win/lose count 3.5/4.0. Average score (-1.2727272727272727)\n",
      "Win/lose count 4.5/6.0. Average score (-1.2916666666666667)\n",
      "Win/lose count 2.5/7.0. Average score (-1.5384615384615385)\n",
      "Win/lose count 2.0/3.0. Average score (-1.5)\n",
      "Win/lose count 6.0/7.0. Average score (-1.4666666666666666)\n",
      "Final score: -1.4666666666666666\n"
     ]
    }
   ],
   "source": [
    "env = Environment(grid_size=size, max_time=T,temperature=0.3)\n",
    "agent_cnn = DQN_CNN(size, lr=.1, epsilon = 0.1, memory_size=2000, batch_size = 32)\n",
    "agent_cnn.load(name_weights='cnn_trainmodel.h5',name_model='cnn_trainmodel.json')\n",
    "\n",
    "agent_fc = DQN_FC(size, lr=.1, epsilon = 0.1, memory_size=2000, batch_size = 32)\n",
    "agent_cnn.load(name_weights='fc_trainmodel.h5',name_model='fc_trainmodel.json')\n",
    "\n",
    "print('Test of the CNN')\n",
    "test(agent_cnn,env,epochs_test,prefix='cnn_test')\n",
    "\n",
    "print('Test of the FC')\n",
    "test(agent_fc,env,epochs_test,prefix='fc_test')"
   ]
  },
  {
   "cell_type": "code",
   "execution_count": 0,
   "metadata": {
    "colab": {
     "base_uri": "https://localhost:8080/",
     "height": 293
    },
    "colab_type": "code",
    "id": "TxuIHS74cYUt",
    "outputId": "39f82bd3-b92f-4d04-bd17-6336241bc081"
   },
   "outputs": [
    {
     "data": {
      "text/html": [
       "<video alt=\"test\" controls>\n",
       "                <source src=\"data:video/mp4;base64,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\" type=\"video/mp4\" />\n",
       "             </video>"
      ],
      "text/plain": [
       "<IPython.core.display.HTML object>"
      ]
     },
     "execution_count": 82,
     "metadata": {
      "tags": []
     },
     "output_type": "execute_result"
    }
   ],
   "source": [
    "HTML(display_videos('cnn_test10.mp4'))"
   ]
  },
  {
   "cell_type": "code",
   "execution_count": 0,
   "metadata": {
    "colab": {
     "base_uri": "https://localhost:8080/",
     "height": 293
    },
    "colab_type": "code",
    "id": "GGdkhYwPcYUv",
    "outputId": "a3a3339f-4676-41b4-c851-91e02c220198"
   },
   "outputs": [
    {
     "data": {
      "text/html": [
       "<video alt=\"test\" controls>\n",
       "                <source src=\"data:video/mp4;base64,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\" type=\"video/mp4\" />\n",
       "             </video>"
      ],
      "text/plain": [
       "<IPython.core.display.HTML object>"
      ]
     },
     "execution_count": 83,
     "metadata": {
      "tags": []
     },
     "output_type": "execute_result"
    }
   ],
   "source": [
    "HTML(display_videos('fc_test10.mp4'))"
   ]
  },
  {
   "cell_type": "markdown",
   "metadata": {
    "colab_type": "text",
    "id": "HzSulaLfcYUz"
   },
   "source": [
    "We notice that the CNN performs better than the FC. \n",
    "We can also notice that just a small part of the map is explored."
   ]
  },
  {
   "cell_type": "markdown",
   "metadata": {
    "colab_type": "text",
    "id": "q1TxT5AxcYUz"
   },
   "source": [
    "***\n",
    "\n",
    "The algorithm tends to not explore the map which can be an issue. We propose two ideas in order to encourage exploration:\n",
    "1. Incorporating a decreasing $\\epsilon$-greedy exploration. You can use the method ```set_epsilon```\n",
    "2. Append via the environment a new state that describes if a cell has been visited or not\n",
    "\n",
    "***\n",
    "__Question 10__ Design a new ```train_explore``` function and environment class ```EnvironmentExploring``` to tackle the issue of exploration.\n",
    "\n"
   ]
  },
  {
   "cell_type": "code",
   "execution_count": 0,
   "metadata": {
    "colab": {},
    "colab_type": "code",
    "id": "vlrknE7-cYU1"
   },
   "outputs": [],
   "source": [
    "def train_explore(agent,env,epoch,prefix=''):\n",
    "    pass\n",
    "        \n",
    "class EnvironmentExploring(object):\n",
    "    def __init__(self, grid_size=10, max_time=500, temperature=0.1):\n",
    "        pass\n",
    "    \n",
    "## use those samples of code:\n",
    "#In train explore:\n",
    "state, reward, game_over = env.act(action, train=True)\n",
    "\n",
    "## In Environment exploring:\n",
    "# You will have to change n_state to 3 because you will use one more layer!\n",
    "reward = 0\n",
    "if train:\n",
    "    reward = -self.malus_position[self.x, self.y]\n",
    "self.malus_position[self.x, self.y] = 0.1\n",
    "\n",
    "reward = reward + self.board[self.x, self.y]\n",
    "# 3 \"feature\" states instead of 2\n",
    "state = np.concatenate((self.malus_position.reshape(self.grid_size, self.grid_size,1),\n",
    "                                self.board.reshape(self.grid_size, self.grid_size,1),\n",
    "                        self.position.reshape(self.grid_size, self.grid_size,1)),axis=2)"
   ]
  },
  {
   "cell_type": "code",
   "execution_count": 0,
   "metadata": {
    "colab": {},
    "colab_type": "code",
    "id": "NlKMS4X7cYU4"
   },
   "outputs": [],
   "source": [
    "# Training\n",
    "env = EnvironmentExploring(grid_size=size, max_time=T, temperature=0.3)\n",
    "agent = DQN_CNN(size, lr=.1, epsilon = 0.1, memory_size=2000, batch_size = 32,n_state=3)\n",
    "train_explore(agent, env, epochs_train, prefix='cnn_train_explore')\n",
    "HTML(display_videos('cnn_train_explore10.mp4'))"
   ]
  },
  {
   "cell_type": "code",
   "execution_count": 0,
   "metadata": {
    "colab": {},
    "colab_type": "code",
    "id": "ElkJkEDecYU8"
   },
   "outputs": [],
   "source": [
    "# Evaluation\n",
    "test(agent,env,epochs_test,prefix='cnn_test_explore')\n",
    "HTML(display_videos('cnn_test_explore10.mp4'))"
   ]
  },
  {
   "cell_type": "markdown",
   "metadata": {
    "colab_type": "text",
    "id": "8SKx-K9tcYVA"
   },
   "source": [
    "***"
   ]
  }
 ],
 "metadata": {
  "colab": {
   "collapsed_sections": [],
   "name": "DQN_project_MVA.ipynb",
   "provenance": [],
   "version": "0.3.2"
  },
  "kernelspec": {
   "display_name": "Python 3",
   "language": "python",
   "name": "python3"
  },
  "language_info": {
   "codemirror_mode": {
    "name": "ipython",
    "version": 3
   },
   "file_extension": ".py",
   "mimetype": "text/x-python",
   "name": "python",
   "nbconvert_exporter": "python",
   "pygments_lexer": "ipython3",
   "version": "3.6.7"
  }
 },
 "nbformat": 4,
 "nbformat_minor": 1
}
